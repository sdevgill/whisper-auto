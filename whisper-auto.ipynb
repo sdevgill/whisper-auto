{
 "cells": [
  {
   "cell_type": "code",
   "execution_count": null,
   "metadata": {},
   "outputs": [],
   "source": [
    "import os\n",
    "import whisper\n",
    "import time"
   ]
  },
  {
   "cell_type": "code",
   "execution_count": null,
   "metadata": {},
   "outputs": [],
   "source": [
    "input_folder = \"./input/\"\n",
    "output_folder = \"./output/\"\n",
    "valid_extensions = [\n",
    "    \".mp3\",\n",
    "    \".wav\",\n",
    "    \".m4a\",\n",
    "]  # Add or modify the file extensions as needed\n",
    "\n",
    "# Create folders if they don't exist\n",
    "if not os.path.exists(output_folder):\n",
    "    os.makedirs(output_folder)\n",
    "if not os.path.exists(input_folder):\n",
    "    os.makedirs(input_folder)"
   ]
  },
  {
   "cell_type": "code",
   "execution_count": null,
   "metadata": {},
   "outputs": [],
   "source": [
    "# Load the local whisper model. \n",
    "# Available models: tiny, base, small, medium, large (default large-v2)\n",
    "model = whisper.load_model(\"large\", device=\"cuda\")"
   ]
  },
  {
   "cell_type": "code",
   "execution_count": null,
   "metadata": {},
   "outputs": [],
   "source": [
    "def transcribe_and_append(audio_path, output_path, separator=\"\\n--------------------------------\\n\"):\n",
    "    result = model.transcribe(audio_path)\n",
    "    transcription = result[\"text\"]\n",
    "\n",
    "    with open(output_path, \"a\", encoding=\"utf-8\") as output_file:\n",
    "        output_file.write(separator)\n",
    "        output_file.write(transcription)\n",
    "        output_file.write(separator)"
   ]
  },
  {
   "cell_type": "code",
   "execution_count": null,
   "metadata": {},
   "outputs": [],
   "source": [
    "def main():\n",
    "    transcription_count = 0\n",
    "    total_time = 0\n",
    "\n",
    "    # Iterate through all files in the input folder\n",
    "    for filename in os.listdir(input_folder):\n",
    "        # Check if the file has a valid audio file extension\n",
    "        file_extension = os.path.splitext(filename)[1]\n",
    "        if file_extension in valid_extensions:\n",
    "            file_path = os.path.join(input_folder, filename)\n",
    "            output_file_path = os.path.join(\n",
    "                output_folder, f\"{os.path.splitext(filename)[0]}_transcription.txt\"\n",
    "            )\n",
    "\n",
    "            # Measure the time taken to transcribe the audio file\n",
    "            start_time = time.time()\n",
    "            transcribe_and_append(file_path, output_file_path)\n",
    "            time_taken = time.time() - start_time\n",
    "            total_time += time_taken\n",
    "\n",
    "            # Append the time taken to the output file\n",
    "            with open(output_file_path, \"a\", encoding=\"utf-8\") as f:\n",
    "                f.write(f\"\\nTime taken for this transcription: {time_taken:.2f} seconds\\n\")\n",
    "\n",
    "            transcription_count += 1\n",
    "            print(\n",
    "                f\"Transcription #{transcription_count} for {filename} has been saved. Time taken: {time_taken:.2f} seconds\"\n",
    "            )\n",
    "        else:\n",
    "            print(f\"{filename} has an unsupported file extension. Skipping...\")\n",
    "\n",
    "    print(f\"\\nFinished processing {transcription_count} audio files.\\n\")\n",
    "    print(f\"Total time: {total_time:.2f} seconds\")"
   ]
  },
  {
   "cell_type": "code",
   "execution_count": null,
   "metadata": {},
   "outputs": [],
   "source": [
    "if __name__ == \"__main__\":\n",
    "    main()"
   ]
  }
 ],
 "metadata": {
  "kernelspec": {
   "display_name": ".venv",
   "language": "python",
   "name": "python3"
  },
  "language_info": {
   "codemirror_mode": {
    "name": "ipython",
    "version": 3
   },
   "file_extension": ".py",
   "mimetype": "text/x-python",
   "name": "python",
   "nbconvert_exporter": "python",
   "pygments_lexer": "ipython3",
   "version": "3.10.10"
  },
  "orig_nbformat": 4
 },
 "nbformat": 4,
 "nbformat_minor": 2
}
